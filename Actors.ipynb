{
  "nbformat": 4,
  "nbformat_minor": 0,
  "metadata": {
    "colab": {
      "provenance": []
    },
    "kernelspec": {
      "name": "python3",
      "display_name": "Python 3"
    },
    "language_info": {
      "name": "python"
    }
  },
  "cells": [
    {
      "cell_type": "code",
      "execution_count": null,
      "metadata": {
        "id": "W-TVadteG4bQ"
      },
      "outputs": [],
      "source": [
        "//mounting the google drive"
      ]
    },
    {
      "cell_type": "code",
      "source": [
        "from google.colab import drive\n",
        "drive.mount('/content/drive')"
      ],
      "metadata": {
        "colab": {
          "base_uri": "https://localhost:8080/"
        },
        "id": "uhG-qXNAG_uO",
        "outputId": "582d6037-38b9-4738-f8f0-df43b50defab"
      },
      "execution_count": 1,
      "outputs": [
        {
          "output_type": "stream",
          "name": "stdout",
          "text": [
            "Mounted at /content/drive\n"
          ]
        }
      ]
    },
    {
      "cell_type": "markdown",
      "source": [
        "installing all needed libraries"
      ],
      "metadata": {
        "id": "dXiGJy3IHBu1"
      }
    },
    {
      "cell_type": "code",
      "source": [
        "!pip install pinecone-client torch torchvision\n"
      ],
      "metadata": {
        "colab": {
          "base_uri": "https://localhost:8080/"
        },
        "id": "Rk-0yW8XHNLO",
        "outputId": "0ee97431-2f5b-4589-b3dd-a422e4d12bac"
      },
      "execution_count": 2,
      "outputs": [
        {
          "output_type": "stream",
          "name": "stdout",
          "text": [
            "Collecting pinecone-client\n",
            "  Downloading pinecone_client-5.0.0-py3-none-any.whl.metadata (19 kB)\n",
            "Requirement already satisfied: torch in /usr/local/lib/python3.10/dist-packages (2.3.1+cu121)\n",
            "Requirement already satisfied: torchvision in /usr/local/lib/python3.10/dist-packages (0.18.1+cu121)\n",
            "Requirement already satisfied: certifi>=2019.11.17 in /usr/local/lib/python3.10/dist-packages (from pinecone-client) (2024.7.4)\n",
            "Collecting pinecone-plugin-inference==1.0.2 (from pinecone-client)\n",
            "  Downloading pinecone_plugin_inference-1.0.2-py3-none-any.whl.metadata (2.2 kB)\n",
            "Collecting pinecone-plugin-interface<0.0.8,>=0.0.7 (from pinecone-client)\n",
            "  Downloading pinecone_plugin_interface-0.0.7-py3-none-any.whl.metadata (1.2 kB)\n",
            "Requirement already satisfied: tqdm>=4.64.1 in /usr/local/lib/python3.10/dist-packages (from pinecone-client) (4.66.4)\n",
            "Requirement already satisfied: typing-extensions>=3.7.4 in /usr/local/lib/python3.10/dist-packages (from pinecone-client) (4.12.2)\n",
            "Requirement already satisfied: urllib3>=1.26.0 in /usr/local/lib/python3.10/dist-packages (from pinecone-client) (2.0.7)\n",
            "Requirement already satisfied: filelock in /usr/local/lib/python3.10/dist-packages (from torch) (3.15.4)\n",
            "Requirement already satisfied: sympy in /usr/local/lib/python3.10/dist-packages (from torch) (1.13.1)\n",
            "Requirement already satisfied: networkx in /usr/local/lib/python3.10/dist-packages (from torch) (3.3)\n",
            "Requirement already satisfied: jinja2 in /usr/local/lib/python3.10/dist-packages (from torch) (3.1.4)\n",
            "Requirement already satisfied: fsspec in /usr/local/lib/python3.10/dist-packages (from torch) (2024.6.1)\n",
            "Collecting nvidia-cuda-nvrtc-cu12==12.1.105 (from torch)\n",
            "  Using cached nvidia_cuda_nvrtc_cu12-12.1.105-py3-none-manylinux1_x86_64.whl.metadata (1.5 kB)\n",
            "Collecting nvidia-cuda-runtime-cu12==12.1.105 (from torch)\n",
            "  Using cached nvidia_cuda_runtime_cu12-12.1.105-py3-none-manylinux1_x86_64.whl.metadata (1.5 kB)\n",
            "Collecting nvidia-cuda-cupti-cu12==12.1.105 (from torch)\n",
            "  Using cached nvidia_cuda_cupti_cu12-12.1.105-py3-none-manylinux1_x86_64.whl.metadata (1.6 kB)\n",
            "Collecting nvidia-cudnn-cu12==8.9.2.26 (from torch)\n",
            "  Using cached nvidia_cudnn_cu12-8.9.2.26-py3-none-manylinux1_x86_64.whl.metadata (1.6 kB)\n",
            "Collecting nvidia-cublas-cu12==12.1.3.1 (from torch)\n",
            "  Using cached nvidia_cublas_cu12-12.1.3.1-py3-none-manylinux1_x86_64.whl.metadata (1.5 kB)\n",
            "Collecting nvidia-cufft-cu12==11.0.2.54 (from torch)\n",
            "  Using cached nvidia_cufft_cu12-11.0.2.54-py3-none-manylinux1_x86_64.whl.metadata (1.5 kB)\n",
            "Collecting nvidia-curand-cu12==10.3.2.106 (from torch)\n",
            "  Using cached nvidia_curand_cu12-10.3.2.106-py3-none-manylinux1_x86_64.whl.metadata (1.5 kB)\n",
            "Collecting nvidia-cusolver-cu12==11.4.5.107 (from torch)\n",
            "  Using cached nvidia_cusolver_cu12-11.4.5.107-py3-none-manylinux1_x86_64.whl.metadata (1.6 kB)\n",
            "Collecting nvidia-cusparse-cu12==12.1.0.106 (from torch)\n",
            "  Using cached nvidia_cusparse_cu12-12.1.0.106-py3-none-manylinux1_x86_64.whl.metadata (1.6 kB)\n",
            "Collecting nvidia-nccl-cu12==2.20.5 (from torch)\n",
            "  Using cached nvidia_nccl_cu12-2.20.5-py3-none-manylinux2014_x86_64.whl.metadata (1.8 kB)\n",
            "Collecting nvidia-nvtx-cu12==12.1.105 (from torch)\n",
            "  Using cached nvidia_nvtx_cu12-12.1.105-py3-none-manylinux1_x86_64.whl.metadata (1.7 kB)\n",
            "Requirement already satisfied: triton==2.3.1 in /usr/local/lib/python3.10/dist-packages (from torch) (2.3.1)\n",
            "Collecting nvidia-nvjitlink-cu12 (from nvidia-cusolver-cu12==11.4.5.107->torch)\n",
            "  Downloading nvidia_nvjitlink_cu12-12.5.82-py3-none-manylinux2014_x86_64.whl.metadata (1.5 kB)\n",
            "Requirement already satisfied: numpy in /usr/local/lib/python3.10/dist-packages (from torchvision) (1.25.2)\n",
            "Requirement already satisfied: pillow!=8.3.*,>=5.3.0 in /usr/local/lib/python3.10/dist-packages (from torchvision) (9.4.0)\n",
            "Requirement already satisfied: MarkupSafe>=2.0 in /usr/local/lib/python3.10/dist-packages (from jinja2->torch) (2.1.5)\n",
            "Requirement already satisfied: mpmath<1.4,>=1.1.0 in /usr/local/lib/python3.10/dist-packages (from sympy->torch) (1.3.0)\n",
            "Downloading pinecone_client-5.0.0-py3-none-any.whl (244 kB)\n",
            "\u001b[2K   \u001b[90m━━━━━━━━━━━━━━━━━━━━━━━━━━━━━━━━━━━━━━━━\u001b[0m \u001b[32m244.8/244.8 kB\u001b[0m \u001b[31m10.9 MB/s\u001b[0m eta \u001b[36m0:00:00\u001b[0m\n",
            "\u001b[?25hDownloading pinecone_plugin_inference-1.0.2-py3-none-any.whl (117 kB)\n",
            "\u001b[2K   \u001b[90m━━━━━━━━━━━━━━━━━━━━━━━━━━━━━━━━━━━━━━━━\u001b[0m \u001b[32m117.6/117.6 kB\u001b[0m \u001b[31m10.6 MB/s\u001b[0m eta \u001b[36m0:00:00\u001b[0m\n",
            "\u001b[?25hUsing cached nvidia_cublas_cu12-12.1.3.1-py3-none-manylinux1_x86_64.whl (410.6 MB)\n",
            "Using cached nvidia_cuda_cupti_cu12-12.1.105-py3-none-manylinux1_x86_64.whl (14.1 MB)\n",
            "Using cached nvidia_cuda_nvrtc_cu12-12.1.105-py3-none-manylinux1_x86_64.whl (23.7 MB)\n",
            "Using cached nvidia_cuda_runtime_cu12-12.1.105-py3-none-manylinux1_x86_64.whl (823 kB)\n",
            "Using cached nvidia_cudnn_cu12-8.9.2.26-py3-none-manylinux1_x86_64.whl (731.7 MB)\n",
            "Using cached nvidia_cufft_cu12-11.0.2.54-py3-none-manylinux1_x86_64.whl (121.6 MB)\n",
            "Using cached nvidia_curand_cu12-10.3.2.106-py3-none-manylinux1_x86_64.whl (56.5 MB)\n",
            "Using cached nvidia_cusolver_cu12-11.4.5.107-py3-none-manylinux1_x86_64.whl (124.2 MB)\n",
            "Using cached nvidia_cusparse_cu12-12.1.0.106-py3-none-manylinux1_x86_64.whl (196.0 MB)\n",
            "Using cached nvidia_nccl_cu12-2.20.5-py3-none-manylinux2014_x86_64.whl (176.2 MB)\n",
            "Using cached nvidia_nvtx_cu12-12.1.105-py3-none-manylinux1_x86_64.whl (99 kB)\n",
            "Downloading pinecone_plugin_interface-0.0.7-py3-none-any.whl (6.2 kB)\n",
            "Downloading nvidia_nvjitlink_cu12-12.5.82-py3-none-manylinux2014_x86_64.whl (21.3 MB)\n",
            "\u001b[2K   \u001b[90m━━━━━━━━━━━━━━━━━━━━━━━━━━━━━━━━━━━━━━━━\u001b[0m \u001b[32m21.3/21.3 MB\u001b[0m \u001b[31m24.2 MB/s\u001b[0m eta \u001b[36m0:00:00\u001b[0m\n",
            "\u001b[?25hInstalling collected packages: pinecone-plugin-interface, nvidia-nvtx-cu12, nvidia-nvjitlink-cu12, nvidia-nccl-cu12, nvidia-curand-cu12, nvidia-cufft-cu12, nvidia-cuda-runtime-cu12, nvidia-cuda-nvrtc-cu12, nvidia-cuda-cupti-cu12, nvidia-cublas-cu12, nvidia-cusparse-cu12, nvidia-cudnn-cu12, nvidia-cusolver-cu12, pinecone-plugin-inference, pinecone-client\n",
            "Successfully installed nvidia-cublas-cu12-12.1.3.1 nvidia-cuda-cupti-cu12-12.1.105 nvidia-cuda-nvrtc-cu12-12.1.105 nvidia-cuda-runtime-cu12-12.1.105 nvidia-cudnn-cu12-8.9.2.26 nvidia-cufft-cu12-11.0.2.54 nvidia-curand-cu12-10.3.2.106 nvidia-cusolver-cu12-11.4.5.107 nvidia-cusparse-cu12-12.1.0.106 nvidia-nccl-cu12-2.20.5 nvidia-nvjitlink-cu12-12.5.82 nvidia-nvtx-cu12-12.1.105 pinecone-client-5.0.0 pinecone-plugin-inference-1.0.2 pinecone-plugin-interface-0.0.7\n"
          ]
        }
      ]
    },
    {
      "cell_type": "code",
      "source": [
        "!pip install \"pinecone-client[grpc]\"\n"
      ],
      "metadata": {
        "colab": {
          "base_uri": "https://localhost:8080/"
        },
        "id": "waRqXo0fOfaW",
        "outputId": "9738c286-00b7-4b36-f3de-7a99c1c17aec"
      },
      "execution_count": 10,
      "outputs": [
        {
          "output_type": "stream",
          "name": "stdout",
          "text": [
            "Requirement already satisfied: pinecone-client[grpc] in /usr/local/lib/python3.10/dist-packages (5.0.0)\n",
            "Requirement already satisfied: certifi>=2019.11.17 in /usr/local/lib/python3.10/dist-packages (from pinecone-client[grpc]) (2024.7.4)\n",
            "Requirement already satisfied: pinecone-plugin-inference==1.0.2 in /usr/local/lib/python3.10/dist-packages (from pinecone-client[grpc]) (1.0.2)\n",
            "Requirement already satisfied: pinecone-plugin-interface<0.0.8,>=0.0.7 in /usr/local/lib/python3.10/dist-packages (from pinecone-client[grpc]) (0.0.7)\n",
            "Requirement already satisfied: tqdm>=4.64.1 in /usr/local/lib/python3.10/dist-packages (from pinecone-client[grpc]) (4.66.4)\n",
            "Requirement already satisfied: typing-extensions>=3.7.4 in /usr/local/lib/python3.10/dist-packages (from pinecone-client[grpc]) (4.12.2)\n",
            "Requirement already satisfied: urllib3>=1.26.0 in /usr/local/lib/python3.10/dist-packages (from pinecone-client[grpc]) (2.0.7)\n",
            "Requirement already satisfied: googleapis-common-protos>=1.53.0 in /usr/local/lib/python3.10/dist-packages (from pinecone-client[grpc]) (1.63.2)\n",
            "Requirement already satisfied: grpcio>=1.44.0 in /usr/local/lib/python3.10/dist-packages (from pinecone-client[grpc]) (1.64.1)\n",
            "Collecting lz4>=3.1.3 (from pinecone-client[grpc])\n",
            "  Downloading lz4-4.3.3-cp310-cp310-manylinux_2_17_x86_64.manylinux2014_x86_64.whl.metadata (3.7 kB)\n",
            "Collecting protobuf<5.0,>=4.25 (from pinecone-client[grpc])\n",
            "  Downloading protobuf-4.25.4-cp37-abi3-manylinux2014_x86_64.whl.metadata (541 bytes)\n",
            "Collecting protoc-gen-openapiv2<0.0.2,>=0.0.1 (from pinecone-client[grpc])\n",
            "  Downloading protoc_gen_openapiv2-0.0.1-py3-none-any.whl.metadata (1.5 kB)\n",
            "Downloading lz4-4.3.3-cp310-cp310-manylinux_2_17_x86_64.manylinux2014_x86_64.whl (1.3 MB)\n",
            "\u001b[2K   \u001b[90m━━━━━━━━━━━━━━━━━━━━━━━━━━━━━━━━━━━━━━━━\u001b[0m \u001b[32m1.3/1.3 MB\u001b[0m \u001b[31m19.4 MB/s\u001b[0m eta \u001b[36m0:00:00\u001b[0m\n",
            "\u001b[?25hDownloading protobuf-4.25.4-cp37-abi3-manylinux2014_x86_64.whl (294 kB)\n",
            "\u001b[2K   \u001b[90m━━━━━━━━━━━━━━━━━━━━━━━━━━━━━━━━━━━━━━━━\u001b[0m \u001b[32m294.6/294.6 kB\u001b[0m \u001b[31m21.0 MB/s\u001b[0m eta \u001b[36m0:00:00\u001b[0m\n",
            "\u001b[?25hDownloading protoc_gen_openapiv2-0.0.1-py3-none-any.whl (7.9 kB)\n",
            "Installing collected packages: protobuf, lz4, protoc-gen-openapiv2\n",
            "  Attempting uninstall: protobuf\n",
            "    Found existing installation: protobuf 3.20.3\n",
            "    Uninstalling protobuf-3.20.3:\n",
            "      Successfully uninstalled protobuf-3.20.3\n",
            "\u001b[31mERROR: pip's dependency resolver does not currently take into account all the packages that are installed. This behaviour is the source of the following dependency conflicts.\n",
            "tensorflow-metadata 1.15.0 requires protobuf<4.21,>=3.20.3; python_version < \"3.11\", but you have protobuf 4.25.4 which is incompatible.\u001b[0m\u001b[31m\n",
            "\u001b[0mSuccessfully installed lz4-4.3.3 protobuf-4.25.4 protoc-gen-openapiv2-0.0.1\n"
          ]
        }
      ]
    },
    {
      "cell_type": "code",
      "source": [
        "from pinecone.grpc import PineconeGRPC as Pinecone\n",
        "\n",
        "# If interacting with Pinecone via HTTP requests, use:\n",
        "# from pinecone import Pinecone\n",
        "\n",
        "pc = Pinecone(api_key=\"011acd2f-5066-4061-bb01-d22b490ef756\")\n"
      ],
      "metadata": {
        "id": "Uy9_SL1lOiS5"
      },
      "execution_count": 16,
      "outputs": []
    },
    {
      "cell_type": "code",
      "source": [
        "from pinecone import ServerlessSpec\n",
        "\n",
        "index_name = \"actors\"\n",
        "dimension = 2048  # Output dimension for ResNet-50\n",
        "pc.create_index(index_name, dimension=dimension,metric=\"cosine\",\n",
        "    spec=ServerlessSpec(\n",
        "        cloud='aws',\n",
        "        region='us-east-1'\n",
        "    ) )"
      ],
      "metadata": {
        "id": "i60WhlCTOq23"
      },
      "execution_count": 17,
      "outputs": []
    },
    {
      "cell_type": "code",
      "source": [
        "import torch\n",
        "from torchvision import models, transforms\n",
        "from PIL import Image\n",
        "import os"
      ],
      "metadata": {
        "id": "gopXPoDePaj7"
      },
      "execution_count": 18,
      "outputs": []
    },
    {
      "cell_type": "code",
      "source": [
        "model = models.resnet50(pretrained=True)\n",
        "model.eval()\n",
        "\n"
      ],
      "metadata": {
        "colab": {
          "base_uri": "https://localhost:8080/"
        },
        "id": "OvB88wV2PklH",
        "outputId": "95d94688-1626-4f13-c25d-41e360f3b7c8"
      },
      "execution_count": 19,
      "outputs": [
        {
          "output_type": "stream",
          "name": "stderr",
          "text": [
            "/usr/local/lib/python3.10/dist-packages/torchvision/models/_utils.py:208: UserWarning: The parameter 'pretrained' is deprecated since 0.13 and may be removed in the future, please use 'weights' instead.\n",
            "  warnings.warn(\n",
            "/usr/local/lib/python3.10/dist-packages/torchvision/models/_utils.py:223: UserWarning: Arguments other than a weight enum or `None` for 'weights' are deprecated since 0.13 and may be removed in the future. The current behavior is equivalent to passing `weights=ResNet50_Weights.IMAGENET1K_V1`. You can also use `weights=ResNet50_Weights.DEFAULT` to get the most up-to-date weights.\n",
            "  warnings.warn(msg)\n",
            "Downloading: \"https://download.pytorch.org/models/resnet50-0676ba61.pth\" to /root/.cache/torch/hub/checkpoints/resnet50-0676ba61.pth\n",
            "100%|██████████| 97.8M/97.8M [00:01<00:00, 67.8MB/s]\n"
          ]
        },
        {
          "output_type": "execute_result",
          "data": {
            "text/plain": [
              "ResNet(\n",
              "  (conv1): Conv2d(3, 64, kernel_size=(7, 7), stride=(2, 2), padding=(3, 3), bias=False)\n",
              "  (bn1): BatchNorm2d(64, eps=1e-05, momentum=0.1, affine=True, track_running_stats=True)\n",
              "  (relu): ReLU(inplace=True)\n",
              "  (maxpool): MaxPool2d(kernel_size=3, stride=2, padding=1, dilation=1, ceil_mode=False)\n",
              "  (layer1): Sequential(\n",
              "    (0): Bottleneck(\n",
              "      (conv1): Conv2d(64, 64, kernel_size=(1, 1), stride=(1, 1), bias=False)\n",
              "      (bn1): BatchNorm2d(64, eps=1e-05, momentum=0.1, affine=True, track_running_stats=True)\n",
              "      (conv2): Conv2d(64, 64, kernel_size=(3, 3), stride=(1, 1), padding=(1, 1), bias=False)\n",
              "      (bn2): BatchNorm2d(64, eps=1e-05, momentum=0.1, affine=True, track_running_stats=True)\n",
              "      (conv3): Conv2d(64, 256, kernel_size=(1, 1), stride=(1, 1), bias=False)\n",
              "      (bn3): BatchNorm2d(256, eps=1e-05, momentum=0.1, affine=True, track_running_stats=True)\n",
              "      (relu): ReLU(inplace=True)\n",
              "      (downsample): Sequential(\n",
              "        (0): Conv2d(64, 256, kernel_size=(1, 1), stride=(1, 1), bias=False)\n",
              "        (1): BatchNorm2d(256, eps=1e-05, momentum=0.1, affine=True, track_running_stats=True)\n",
              "      )\n",
              "    )\n",
              "    (1): Bottleneck(\n",
              "      (conv1): Conv2d(256, 64, kernel_size=(1, 1), stride=(1, 1), bias=False)\n",
              "      (bn1): BatchNorm2d(64, eps=1e-05, momentum=0.1, affine=True, track_running_stats=True)\n",
              "      (conv2): Conv2d(64, 64, kernel_size=(3, 3), stride=(1, 1), padding=(1, 1), bias=False)\n",
              "      (bn2): BatchNorm2d(64, eps=1e-05, momentum=0.1, affine=True, track_running_stats=True)\n",
              "      (conv3): Conv2d(64, 256, kernel_size=(1, 1), stride=(1, 1), bias=False)\n",
              "      (bn3): BatchNorm2d(256, eps=1e-05, momentum=0.1, affine=True, track_running_stats=True)\n",
              "      (relu): ReLU(inplace=True)\n",
              "    )\n",
              "    (2): Bottleneck(\n",
              "      (conv1): Conv2d(256, 64, kernel_size=(1, 1), stride=(1, 1), bias=False)\n",
              "      (bn1): BatchNorm2d(64, eps=1e-05, momentum=0.1, affine=True, track_running_stats=True)\n",
              "      (conv2): Conv2d(64, 64, kernel_size=(3, 3), stride=(1, 1), padding=(1, 1), bias=False)\n",
              "      (bn2): BatchNorm2d(64, eps=1e-05, momentum=0.1, affine=True, track_running_stats=True)\n",
              "      (conv3): Conv2d(64, 256, kernel_size=(1, 1), stride=(1, 1), bias=False)\n",
              "      (bn3): BatchNorm2d(256, eps=1e-05, momentum=0.1, affine=True, track_running_stats=True)\n",
              "      (relu): ReLU(inplace=True)\n",
              "    )\n",
              "  )\n",
              "  (layer2): Sequential(\n",
              "    (0): Bottleneck(\n",
              "      (conv1): Conv2d(256, 128, kernel_size=(1, 1), stride=(1, 1), bias=False)\n",
              "      (bn1): BatchNorm2d(128, eps=1e-05, momentum=0.1, affine=True, track_running_stats=True)\n",
              "      (conv2): Conv2d(128, 128, kernel_size=(3, 3), stride=(2, 2), padding=(1, 1), bias=False)\n",
              "      (bn2): BatchNorm2d(128, eps=1e-05, momentum=0.1, affine=True, track_running_stats=True)\n",
              "      (conv3): Conv2d(128, 512, kernel_size=(1, 1), stride=(1, 1), bias=False)\n",
              "      (bn3): BatchNorm2d(512, eps=1e-05, momentum=0.1, affine=True, track_running_stats=True)\n",
              "      (relu): ReLU(inplace=True)\n",
              "      (downsample): Sequential(\n",
              "        (0): Conv2d(256, 512, kernel_size=(1, 1), stride=(2, 2), bias=False)\n",
              "        (1): BatchNorm2d(512, eps=1e-05, momentum=0.1, affine=True, track_running_stats=True)\n",
              "      )\n",
              "    )\n",
              "    (1): Bottleneck(\n",
              "      (conv1): Conv2d(512, 128, kernel_size=(1, 1), stride=(1, 1), bias=False)\n",
              "      (bn1): BatchNorm2d(128, eps=1e-05, momentum=0.1, affine=True, track_running_stats=True)\n",
              "      (conv2): Conv2d(128, 128, kernel_size=(3, 3), stride=(1, 1), padding=(1, 1), bias=False)\n",
              "      (bn2): BatchNorm2d(128, eps=1e-05, momentum=0.1, affine=True, track_running_stats=True)\n",
              "      (conv3): Conv2d(128, 512, kernel_size=(1, 1), stride=(1, 1), bias=False)\n",
              "      (bn3): BatchNorm2d(512, eps=1e-05, momentum=0.1, affine=True, track_running_stats=True)\n",
              "      (relu): ReLU(inplace=True)\n",
              "    )\n",
              "    (2): Bottleneck(\n",
              "      (conv1): Conv2d(512, 128, kernel_size=(1, 1), stride=(1, 1), bias=False)\n",
              "      (bn1): BatchNorm2d(128, eps=1e-05, momentum=0.1, affine=True, track_running_stats=True)\n",
              "      (conv2): Conv2d(128, 128, kernel_size=(3, 3), stride=(1, 1), padding=(1, 1), bias=False)\n",
              "      (bn2): BatchNorm2d(128, eps=1e-05, momentum=0.1, affine=True, track_running_stats=True)\n",
              "      (conv3): Conv2d(128, 512, kernel_size=(1, 1), stride=(1, 1), bias=False)\n",
              "      (bn3): BatchNorm2d(512, eps=1e-05, momentum=0.1, affine=True, track_running_stats=True)\n",
              "      (relu): ReLU(inplace=True)\n",
              "    )\n",
              "    (3): Bottleneck(\n",
              "      (conv1): Conv2d(512, 128, kernel_size=(1, 1), stride=(1, 1), bias=False)\n",
              "      (bn1): BatchNorm2d(128, eps=1e-05, momentum=0.1, affine=True, track_running_stats=True)\n",
              "      (conv2): Conv2d(128, 128, kernel_size=(3, 3), stride=(1, 1), padding=(1, 1), bias=False)\n",
              "      (bn2): BatchNorm2d(128, eps=1e-05, momentum=0.1, affine=True, track_running_stats=True)\n",
              "      (conv3): Conv2d(128, 512, kernel_size=(1, 1), stride=(1, 1), bias=False)\n",
              "      (bn3): BatchNorm2d(512, eps=1e-05, momentum=0.1, affine=True, track_running_stats=True)\n",
              "      (relu): ReLU(inplace=True)\n",
              "    )\n",
              "  )\n",
              "  (layer3): Sequential(\n",
              "    (0): Bottleneck(\n",
              "      (conv1): Conv2d(512, 256, kernel_size=(1, 1), stride=(1, 1), bias=False)\n",
              "      (bn1): BatchNorm2d(256, eps=1e-05, momentum=0.1, affine=True, track_running_stats=True)\n",
              "      (conv2): Conv2d(256, 256, kernel_size=(3, 3), stride=(2, 2), padding=(1, 1), bias=False)\n",
              "      (bn2): BatchNorm2d(256, eps=1e-05, momentum=0.1, affine=True, track_running_stats=True)\n",
              "      (conv3): Conv2d(256, 1024, kernel_size=(1, 1), stride=(1, 1), bias=False)\n",
              "      (bn3): BatchNorm2d(1024, eps=1e-05, momentum=0.1, affine=True, track_running_stats=True)\n",
              "      (relu): ReLU(inplace=True)\n",
              "      (downsample): Sequential(\n",
              "        (0): Conv2d(512, 1024, kernel_size=(1, 1), stride=(2, 2), bias=False)\n",
              "        (1): BatchNorm2d(1024, eps=1e-05, momentum=0.1, affine=True, track_running_stats=True)\n",
              "      )\n",
              "    )\n",
              "    (1): Bottleneck(\n",
              "      (conv1): Conv2d(1024, 256, kernel_size=(1, 1), stride=(1, 1), bias=False)\n",
              "      (bn1): BatchNorm2d(256, eps=1e-05, momentum=0.1, affine=True, track_running_stats=True)\n",
              "      (conv2): Conv2d(256, 256, kernel_size=(3, 3), stride=(1, 1), padding=(1, 1), bias=False)\n",
              "      (bn2): BatchNorm2d(256, eps=1e-05, momentum=0.1, affine=True, track_running_stats=True)\n",
              "      (conv3): Conv2d(256, 1024, kernel_size=(1, 1), stride=(1, 1), bias=False)\n",
              "      (bn3): BatchNorm2d(1024, eps=1e-05, momentum=0.1, affine=True, track_running_stats=True)\n",
              "      (relu): ReLU(inplace=True)\n",
              "    )\n",
              "    (2): Bottleneck(\n",
              "      (conv1): Conv2d(1024, 256, kernel_size=(1, 1), stride=(1, 1), bias=False)\n",
              "      (bn1): BatchNorm2d(256, eps=1e-05, momentum=0.1, affine=True, track_running_stats=True)\n",
              "      (conv2): Conv2d(256, 256, kernel_size=(3, 3), stride=(1, 1), padding=(1, 1), bias=False)\n",
              "      (bn2): BatchNorm2d(256, eps=1e-05, momentum=0.1, affine=True, track_running_stats=True)\n",
              "      (conv3): Conv2d(256, 1024, kernel_size=(1, 1), stride=(1, 1), bias=False)\n",
              "      (bn3): BatchNorm2d(1024, eps=1e-05, momentum=0.1, affine=True, track_running_stats=True)\n",
              "      (relu): ReLU(inplace=True)\n",
              "    )\n",
              "    (3): Bottleneck(\n",
              "      (conv1): Conv2d(1024, 256, kernel_size=(1, 1), stride=(1, 1), bias=False)\n",
              "      (bn1): BatchNorm2d(256, eps=1e-05, momentum=0.1, affine=True, track_running_stats=True)\n",
              "      (conv2): Conv2d(256, 256, kernel_size=(3, 3), stride=(1, 1), padding=(1, 1), bias=False)\n",
              "      (bn2): BatchNorm2d(256, eps=1e-05, momentum=0.1, affine=True, track_running_stats=True)\n",
              "      (conv3): Conv2d(256, 1024, kernel_size=(1, 1), stride=(1, 1), bias=False)\n",
              "      (bn3): BatchNorm2d(1024, eps=1e-05, momentum=0.1, affine=True, track_running_stats=True)\n",
              "      (relu): ReLU(inplace=True)\n",
              "    )\n",
              "    (4): Bottleneck(\n",
              "      (conv1): Conv2d(1024, 256, kernel_size=(1, 1), stride=(1, 1), bias=False)\n",
              "      (bn1): BatchNorm2d(256, eps=1e-05, momentum=0.1, affine=True, track_running_stats=True)\n",
              "      (conv2): Conv2d(256, 256, kernel_size=(3, 3), stride=(1, 1), padding=(1, 1), bias=False)\n",
              "      (bn2): BatchNorm2d(256, eps=1e-05, momentum=0.1, affine=True, track_running_stats=True)\n",
              "      (conv3): Conv2d(256, 1024, kernel_size=(1, 1), stride=(1, 1), bias=False)\n",
              "      (bn3): BatchNorm2d(1024, eps=1e-05, momentum=0.1, affine=True, track_running_stats=True)\n",
              "      (relu): ReLU(inplace=True)\n",
              "    )\n",
              "    (5): Bottleneck(\n",
              "      (conv1): Conv2d(1024, 256, kernel_size=(1, 1), stride=(1, 1), bias=False)\n",
              "      (bn1): BatchNorm2d(256, eps=1e-05, momentum=0.1, affine=True, track_running_stats=True)\n",
              "      (conv2): Conv2d(256, 256, kernel_size=(3, 3), stride=(1, 1), padding=(1, 1), bias=False)\n",
              "      (bn2): BatchNorm2d(256, eps=1e-05, momentum=0.1, affine=True, track_running_stats=True)\n",
              "      (conv3): Conv2d(256, 1024, kernel_size=(1, 1), stride=(1, 1), bias=False)\n",
              "      (bn3): BatchNorm2d(1024, eps=1e-05, momentum=0.1, affine=True, track_running_stats=True)\n",
              "      (relu): ReLU(inplace=True)\n",
              "    )\n",
              "  )\n",
              "  (layer4): Sequential(\n",
              "    (0): Bottleneck(\n",
              "      (conv1): Conv2d(1024, 512, kernel_size=(1, 1), stride=(1, 1), bias=False)\n",
              "      (bn1): BatchNorm2d(512, eps=1e-05, momentum=0.1, affine=True, track_running_stats=True)\n",
              "      (conv2): Conv2d(512, 512, kernel_size=(3, 3), stride=(2, 2), padding=(1, 1), bias=False)\n",
              "      (bn2): BatchNorm2d(512, eps=1e-05, momentum=0.1, affine=True, track_running_stats=True)\n",
              "      (conv3): Conv2d(512, 2048, kernel_size=(1, 1), stride=(1, 1), bias=False)\n",
              "      (bn3): BatchNorm2d(2048, eps=1e-05, momentum=0.1, affine=True, track_running_stats=True)\n",
              "      (relu): ReLU(inplace=True)\n",
              "      (downsample): Sequential(\n",
              "        (0): Conv2d(1024, 2048, kernel_size=(1, 1), stride=(2, 2), bias=False)\n",
              "        (1): BatchNorm2d(2048, eps=1e-05, momentum=0.1, affine=True, track_running_stats=True)\n",
              "      )\n",
              "    )\n",
              "    (1): Bottleneck(\n",
              "      (conv1): Conv2d(2048, 512, kernel_size=(1, 1), stride=(1, 1), bias=False)\n",
              "      (bn1): BatchNorm2d(512, eps=1e-05, momentum=0.1, affine=True, track_running_stats=True)\n",
              "      (conv2): Conv2d(512, 512, kernel_size=(3, 3), stride=(1, 1), padding=(1, 1), bias=False)\n",
              "      (bn2): BatchNorm2d(512, eps=1e-05, momentum=0.1, affine=True, track_running_stats=True)\n",
              "      (conv3): Conv2d(512, 2048, kernel_size=(1, 1), stride=(1, 1), bias=False)\n",
              "      (bn3): BatchNorm2d(2048, eps=1e-05, momentum=0.1, affine=True, track_running_stats=True)\n",
              "      (relu): ReLU(inplace=True)\n",
              "    )\n",
              "    (2): Bottleneck(\n",
              "      (conv1): Conv2d(2048, 512, kernel_size=(1, 1), stride=(1, 1), bias=False)\n",
              "      (bn1): BatchNorm2d(512, eps=1e-05, momentum=0.1, affine=True, track_running_stats=True)\n",
              "      (conv2): Conv2d(512, 512, kernel_size=(3, 3), stride=(1, 1), padding=(1, 1), bias=False)\n",
              "      (bn2): BatchNorm2d(512, eps=1e-05, momentum=0.1, affine=True, track_running_stats=True)\n",
              "      (conv3): Conv2d(512, 2048, kernel_size=(1, 1), stride=(1, 1), bias=False)\n",
              "      (bn3): BatchNorm2d(2048, eps=1e-05, momentum=0.1, affine=True, track_running_stats=True)\n",
              "      (relu): ReLU(inplace=True)\n",
              "    )\n",
              "  )\n",
              "  (avgpool): AdaptiveAvgPool2d(output_size=(1, 1))\n",
              "  (fc): Linear(in_features=2048, out_features=1000, bias=True)\n",
              ")"
            ]
          },
          "metadata": {},
          "execution_count": 19
        }
      ]
    },
    {
      "cell_type": "code",
      "source": [
        "preprocess = transforms.Compose([\n",
        "    transforms.Resize(256),\n",
        "    transforms.CenterCrop(224),\n",
        "    transforms.ToTensor(),\n",
        "    transforms.Normalize(mean=[0.485, 0.456, 0.406], std=[0.229, 0.224, 0.225]),\n",
        "])"
      ],
      "metadata": {
        "id": "elmMtFcpPmL0"
      },
      "execution_count": 20,
      "outputs": []
    },
    {
      "cell_type": "code",
      "source": [
        "def preprocess_image(file_path):\n",
        "    img = Image.open(file_path).convert('RGB')\n",
        "    img_data = preprocess(img)\n",
        "    img_data = img_data.unsqueeze(0)  # Add batch dimension\n",
        "    return img_data\n",
        "\n",
        "# Function to extract features using ResNet\n",
        "def extract_features(model, img_data):\n",
        "    with torch.no_grad():\n",
        "        features = model.avgpool(model.forward_features(img_data))\n",
        "        features = features.squeeze()  # Remove unnecessary dimensions\n",
        "    return features"
      ],
      "metadata": {
        "id": "vZgo6m_4PvDw"
      },
      "execution_count": 26,
      "outputs": []
    },
    {
      "cell_type": "code",
      "source": [
        "# Step 1: Mount Google Drive\n",
        "from google.colab import drive\n",
        "drive.mount('/content/drive')\n",
        "\n",
        "# Step 2: Install Necessary Libraries\n",
        "!pip install pinecone-client torch torchvision\n",
        "\n",
        "# Step 3: Initialize Pinecone\n",
        "import pinecone\n",
        "from pinecone.grpc import PineconeGRPC as Pinecone\n",
        "\n",
        "\n",
        "PINECONE_API_KEY = \"011acd2f-5066-4061-bb01-d22b490ef756\"\n",
        "pc = Pinecone(api_key=PINECONE_API_KEY)\n",
        "\n",
        "# Step 4: Create Pinecone Index\n",
        "index_name = \"actors\"\n",
        "# dimension = 2048  # Output dimension for ResNet-50\n",
        "# pinecone.create_index(index_name, dimension=dimension)\n",
        "index = pc.Index(index_name)\n",
        "\n",
        "# Step 5: Load and Preprocess Images, Extract Features with ResNet, and Upload to Pinecone\n",
        "import torch\n",
        "from torchvision import models, transforms\n",
        "from PIL import Image\n",
        "import os\n",
        "\n",
        "# Initialize ResNet model\n",
        "model = models.resnet50(pretrained=True)\n",
        "model.eval()\n",
        "\n",
        "# Modify ResNet to output features before the classification layer\n",
        "class ResNetFeatureExtractor(torch.nn.Module):\n",
        "    def __init__(self, model):\n",
        "        super(ResNetFeatureExtractor, self).__init__()\n",
        "        self.features = torch.nn.Sequential(*list(model.children())[:-2])  # Remove the last FC layer and avgpool\n",
        "        self.avgpool = model.avgpool\n",
        "\n",
        "    def forward(self, x):\n",
        "        x = self.features(x)\n",
        "        x = self.avgpool(x)\n",
        "        x = torch.flatten(x, 1)  # Flatten the output\n",
        "        return x\n",
        "\n",
        "# Wrap the model\n",
        "feature_extractor = ResNetFeatureExtractor(model)\n",
        "\n",
        "# Preprocess image function\n",
        "preprocess = transforms.Compose([\n",
        "    transforms.Resize(256),\n",
        "    transforms.CenterCrop(224),\n",
        "    transforms.ToTensor(),\n",
        "    transforms.Normalize(mean=[0.485, 0.456, 0.406], std=[0.229, 0.224, 0.225]),\n",
        "])\n",
        "\n",
        "# Function to preprocess image\n",
        "def preprocess_image(file_path):\n",
        "    img = Image.open(file_path).convert('RGB')\n",
        "    img_data = preprocess(img)\n",
        "    img_data = img_data.unsqueeze(0)  # Add batch dimension\n",
        "    return img_data\n",
        "\n",
        "# Function to extract features using the modified ResNet model\n",
        "def extract_features(model, img_data):\n",
        "    with torch.no_grad():\n",
        "        features = model(img_data)\n",
        "    return features\n",
        "\n",
        "# Directory containing images in Google Drive\n",
        "image_dir = '/content/drive/My Drive/actors/mamooty'  # Replace with your folder path\n",
        "\n",
        "# Process files and extract features\n",
        "for file_name in os.listdir(image_dir):\n",
        "    file_path = os.path.join(image_dir, file_name)\n",
        "\n",
        "    # Check if file is an image\n",
        "    if file_name.lower().endswith(('png', 'jpg', 'jpeg', 'bmp', 'gif')):\n",
        "        # Preprocess image\n",
        "        img_data = preprocess_image(file_path)\n",
        "\n",
        "        # Extract features\n",
        "        features = extract_features(feature_extractor, img_data)\n",
        "\n",
        "        # Convert features to a list\n",
        "        vector = features.flatten().tolist()\n",
        "\n",
        "        # Add vector to Pinecone\n",
        "        index.upsert([{\"id\": \"mamooty\", \"values\": vector}])\n"
      ],
      "metadata": {
        "colab": {
          "base_uri": "https://localhost:8080/"
        },
        "id": "pRvVbhL1RyJL",
        "outputId": "fdd6facd-9a94-4826-a6a1-edca8db8d482"
      },
      "execution_count": 29,
      "outputs": [
        {
          "output_type": "stream",
          "name": "stdout",
          "text": [
            "Drive already mounted at /content/drive; to attempt to forcibly remount, call drive.mount(\"/content/drive\", force_remount=True).\n",
            "Requirement already satisfied: pinecone-client in /usr/local/lib/python3.10/dist-packages (5.0.0)\n",
            "Requirement already satisfied: torch in /usr/local/lib/python3.10/dist-packages (2.3.1+cu121)\n",
            "Requirement already satisfied: torchvision in /usr/local/lib/python3.10/dist-packages (0.18.1+cu121)\n",
            "Requirement already satisfied: certifi>=2019.11.17 in /usr/local/lib/python3.10/dist-packages (from pinecone-client) (2024.7.4)\n",
            "Requirement already satisfied: pinecone-plugin-inference==1.0.2 in /usr/local/lib/python3.10/dist-packages (from pinecone-client) (1.0.2)\n",
            "Requirement already satisfied: pinecone-plugin-interface<0.0.8,>=0.0.7 in /usr/local/lib/python3.10/dist-packages (from pinecone-client) (0.0.7)\n",
            "Requirement already satisfied: tqdm>=4.64.1 in /usr/local/lib/python3.10/dist-packages (from pinecone-client) (4.66.4)\n",
            "Requirement already satisfied: typing-extensions>=3.7.4 in /usr/local/lib/python3.10/dist-packages (from pinecone-client) (4.12.2)\n",
            "Requirement already satisfied: urllib3>=1.26.0 in /usr/local/lib/python3.10/dist-packages (from pinecone-client) (2.0.7)\n",
            "Requirement already satisfied: filelock in /usr/local/lib/python3.10/dist-packages (from torch) (3.15.4)\n",
            "Requirement already satisfied: sympy in /usr/local/lib/python3.10/dist-packages (from torch) (1.13.1)\n",
            "Requirement already satisfied: networkx in /usr/local/lib/python3.10/dist-packages (from torch) (3.3)\n",
            "Requirement already satisfied: jinja2 in /usr/local/lib/python3.10/dist-packages (from torch) (3.1.4)\n",
            "Requirement already satisfied: fsspec in /usr/local/lib/python3.10/dist-packages (from torch) (2024.6.1)\n",
            "Requirement already satisfied: nvidia-cuda-nvrtc-cu12==12.1.105 in /usr/local/lib/python3.10/dist-packages (from torch) (12.1.105)\n",
            "Requirement already satisfied: nvidia-cuda-runtime-cu12==12.1.105 in /usr/local/lib/python3.10/dist-packages (from torch) (12.1.105)\n",
            "Requirement already satisfied: nvidia-cuda-cupti-cu12==12.1.105 in /usr/local/lib/python3.10/dist-packages (from torch) (12.1.105)\n",
            "Requirement already satisfied: nvidia-cudnn-cu12==8.9.2.26 in /usr/local/lib/python3.10/dist-packages (from torch) (8.9.2.26)\n",
            "Requirement already satisfied: nvidia-cublas-cu12==12.1.3.1 in /usr/local/lib/python3.10/dist-packages (from torch) (12.1.3.1)\n",
            "Requirement already satisfied: nvidia-cufft-cu12==11.0.2.54 in /usr/local/lib/python3.10/dist-packages (from torch) (11.0.2.54)\n",
            "Requirement already satisfied: nvidia-curand-cu12==10.3.2.106 in /usr/local/lib/python3.10/dist-packages (from torch) (10.3.2.106)\n",
            "Requirement already satisfied: nvidia-cusolver-cu12==11.4.5.107 in /usr/local/lib/python3.10/dist-packages (from torch) (11.4.5.107)\n",
            "Requirement already satisfied: nvidia-cusparse-cu12==12.1.0.106 in /usr/local/lib/python3.10/dist-packages (from torch) (12.1.0.106)\n",
            "Requirement already satisfied: nvidia-nccl-cu12==2.20.5 in /usr/local/lib/python3.10/dist-packages (from torch) (2.20.5)\n",
            "Requirement already satisfied: nvidia-nvtx-cu12==12.1.105 in /usr/local/lib/python3.10/dist-packages (from torch) (12.1.105)\n",
            "Requirement already satisfied: triton==2.3.1 in /usr/local/lib/python3.10/dist-packages (from torch) (2.3.1)\n",
            "Requirement already satisfied: nvidia-nvjitlink-cu12 in /usr/local/lib/python3.10/dist-packages (from nvidia-cusolver-cu12==11.4.5.107->torch) (12.5.82)\n",
            "Requirement already satisfied: numpy in /usr/local/lib/python3.10/dist-packages (from torchvision) (1.25.2)\n",
            "Requirement already satisfied: pillow!=8.3.*,>=5.3.0 in /usr/local/lib/python3.10/dist-packages (from torchvision) (9.4.0)\n",
            "Requirement already satisfied: MarkupSafe>=2.0 in /usr/local/lib/python3.10/dist-packages (from jinja2->torch) (2.1.5)\n",
            "Requirement already satisfied: mpmath<1.4,>=1.1.0 in /usr/local/lib/python3.10/dist-packages (from sympy->torch) (1.3.0)\n"
          ]
        }
      ]
    },
    {
      "cell_type": "code",
      "source": [
        "image_dir = '/content/drive/My Drive/actors/mohanlal'  # Replace with your folder path\n",
        "\n",
        "# Process files and extract features\n",
        "for file_name in os.listdir(image_dir):\n",
        "    file_path = os.path.join(image_dir, file_name)\n",
        "\n",
        "    # Check if file is an image\n",
        "    if file_name.lower().endswith(('png', 'jpg', 'jpeg', 'bmp', 'gif')):\n",
        "        # Preprocess image\n",
        "        img_data = preprocess_image(file_path)\n",
        "\n",
        "        # Extract features\n",
        "        features = extract_features(feature_extractor, img_data)\n",
        "\n",
        "        # Convert features to a list\n",
        "        vector = features.flatten().tolist()\n",
        "\n",
        "        # Add vector to Pinecone\n",
        "        index.upsert([{\"id\": \"mohanlal\", \"values\": vector}])\n"
      ],
      "metadata": {
        "id": "-RzjVZFSStT7"
      },
      "execution_count": 30,
      "outputs": []
    },
    {
      "cell_type": "code",
      "source": [
        "image_dir = '/content/drive/MyDrive/actors/testcase/download (6).jpeg'\n",
        "img_data = preprocess_image(file_path)\n",
        "\n",
        "features = extract_features(feature_extractor, img_data)\n",
        "vector = features.flatten().tolist()\n",
        "print(vector)\n",
        "\n"
      ],
      "metadata": {
        "colab": {
          "base_uri": "https://localhost:8080/"
        },
        "id": "JL0CJUrbS0Du",
        "outputId": "d5bdec37-8005-4688-b26c-cbcfe952b6a9"
      },
      "execution_count": 44,
      "outputs": [
        {
          "output_type": "stream",
          "name": "stdout",
          "text": [
            "[0.08769864588975906, 1.7271438837051392, 0.6573916077613831, 0.2792373597621918, 0.22327594459056854, 0.24217739701271057, 2.401843547821045, 0.27447977662086487, 0.04151449725031853, 0.28206896781921387, 0.09330777078866959, 0.3470344543457031, 0.31818464398384094, 0.3375565707683563, 0.640835165977478, 0.25703561305999756, 0.5432628989219666, 0.3719707727432251, 0.023451415821909904, 0.4948103725910187, 0.011556800454854965, 0.09677085280418396, 0.1374598741531372, 0.04184912517666817, 0.016603993251919746, 0.12376594543457031, 0.4836547374725342, 0.1812250167131424, 0.5144144892692566, 0.03634442016482353, 0.06080077961087227, 0.4780025780200958, 0.5514498949050903, 1.4281795024871826, 0.5297769904136658, 0.053921714425086975, 0.25933974981307983, 0.13625676929950714, 0.10084202885627747, 0.03865734115242958, 0.2813173830509186, 0.6965866088867188, 0.04732980579137802, 0.3776022791862488, 0.2060115784406662, 0.3211517632007599, 0.004088236950337887, 1.0929131507873535, 0.6146215200424194, 0.33648252487182617, 0.2709615230560303, 0.20181415975093842, 0.9493018984794617, 0.32934731245040894, 0.21453405916690826, 0.12295642495155334, 0.16644254326820374, 0.3193735182285309, 0.0279758982360363, 0.07423769682645798, 0.2054559290409088, 0.25143009424209595, 0.1393146961927414, 0.12347234040498734, 0.2508491277694702, 0.4390427768230438, 0.1069134920835495, 0.21199558675289154, 0.010732836090028286, 0.0067563969641923904, 0.33223626017570496, 0.9824677109718323, 0.15911048650741577, 0.032552219927310944, 0.17017707228660583, 0.08896491676568985, 0.0822172686457634, 0.22836047410964966, 0.020724553614854813, 0.5917446613311768, 0.07002568244934082, 0.03930462524294853, 0.1851528137922287, 0.2516130208969116, 0.006921740248799324, 2.369649887084961, 0.065830297768116, 0.12216170132160187, 0.3802051842212677, 0.0629609003663063, 0.028032254427671432, 0.8529704213142395, 0.06747658550739288, 0.05531671643257141, 1.2502776384353638, 0.6098045110702515, 0.04908820614218712, 0.5541074275970459, 0.033583756536245346, 1.1863062381744385, 0.18066920340061188, 0.4461385905742645, 0.6345885992050171, 0.6482734084129333, 0.3624882698059082, 0.029880465939641, 0.2397008240222931, 0.11114505678415298, 0.005190305411815643, 0.1843671053647995, 0.18512865900993347, 0.3959008753299713, 0.17372950911521912, 0.8295949697494507, 0.43108314275741577, 0.40762871503829956, 0.14944633841514587, 0.09700791537761688, 0.03294144943356514, 0.17590215802192688, 0.15109238028526306, 0.01874694786965847, 0.09275346994400024, 0.0, 0.26560574769973755, 0.2509337365627289, 0.16807475686073303, 0.03254662826657295, 0.2588963806629181, 0.09174130856990814, 1.782607078552246, 0.06542038917541504, 0.1951102465391159, 0.4063540995121002, 0.3612492084503174, 0.10550464689731598, 0.004849161021411419, 0.5117082595825195, 0.08473390340805054, 0.26542672514915466, 0.11539846658706665, 0.2482142597436905, 0.19813837110996246, 0.24245548248291016, 0.05008762702345848, 0.08124656975269318, 0.14005105197429657, 0.2079640030860901, 0.09389941394329071, 0.4242861568927765, 0.10091492533683777, 0.3283592462539673, 0.019281618297100067, 0.09581165760755539, 0.09134212136268616, 0.09761292487382889, 0.01826644502580166, 0.2709229588508606, 1.9412122964859009, 0.08020585775375366, 0.5998713970184326, 0.20639139413833618, 0.03143319860100746, 0.22972649335861206, 0.10486853867769241, 0.5307223796844482, 0.5567190051078796, 0.14303487539291382, 0.4351029396057129, 0.24697235226631165, 0.2137758731842041, 1.0895452499389648, 0.2819933295249939, 0.47881510853767395, 0.09600982815027237, 0.03688006475567818, 0.32216253876686096, 0.8619638681411743, 0.04612640291452408, 0.3894021213054657, 0.19930055737495422, 0.030529236420989037, 0.5474942922592163, 2.4141247272491455, 0.020557189360260963, 0.489414244890213, 0.3896888494491577, 0.11966954171657562, 0.12075135111808777, 0.7218876481056213, 0.07786674797534943, 0.26750561594963074, 0.11852771043777466, 0.04322353005409241, 0.04718388244509697, 0.32624325156211853, 0.3274182677268982, 0.011963749304413795, 0.026486659422516823, 0.20210221409797668, 0.025918075814843178, 0.14704766869544983, 0.0010521194199100137, 0.07236035168170929, 0.07080032676458359, 0.32280421257019043, 0.015438432805240154, 0.2751200497150421, 0.19994133710861206, 0.43706220388412476, 0.4984274208545685, 0.0, 0.212798073887825, 0.21645303070545197, 0.0, 0.12477769702672958, 0.11780661344528198, 0.16860809922218323, 0.49818024039268494, 0.31004613637924194, 0.16956952214241028, 0.709912121295929, 0.16883054375648499, 0.13735972344875336, 0.05539970099925995, 0.5099895000457764, 0.13130831718444824, 0.08371050655841827, 0.18468311429023743, 0.000681757926940918, 0.7406991720199585, 0.0, 0.2836640477180481, 0.8168261647224426, 0.2518794536590576, 0.04375924915075302, 0.1676354855298996, 1.7195979356765747, 0.6626352667808533, 0.052461717277765274, 0.017671626061201096, 0.49869999289512634, 0.08964625000953674, 0.35555559396743774, 0.0015149230603128672, 0.4777188301086426, 0.9436066150665283, 0.0022184071131050587, 0.45470762252807617, 0.6781151294708252, 0.33699965476989746, 0.2615906596183777, 0.12588073313236237, 0.09706414490938187, 0.8897690176963806, 1.4176690578460693, 0.014579416252672672, 0.02086915820837021, 0.043567486107349396, 0.10021521151065826, 0.02672687917947769, 0.66474449634552, 0.1329161375761032, 0.2039235532283783, 0.08113345503807068, 0.06142842397093773, 0.08584728091955185, 0.24269652366638184, 0.08279614895582199, 0.05771366506814957, 0.5721222758293152, 0.523354709148407, 0.06611286848783493, 0.09230335056781769, 0.20138108730316162, 0.10245005786418915, 0.310089647769928, 0.0424388088285923, 0.012518629431724548, 0.5815749764442444, 0.3990113437175751, 0.15422450006008148, 0.3151322603225708, 1.2098969221115112, 0.3470866084098816, 0.7247101068496704, 0.34240227937698364, 0.23991885781288147, 0.1319781392812729, 0.5819392800331116, 0.06995344907045364, 0.21610194444656372, 0.5726054310798645, 0.09692329168319702, 0.0, 0.4519321918487549, 0.11674779653549194, 0.09208692610263824, 0.8320080637931824, 0.028892964124679565, 0.08380752056837082, 0.0031254549976438284, 0.4708503484725952, 0.04708622023463249, 0.4589404761791229, 0.08949364721775055, 0.615659773349762, 0.0968426764011383, 0.19462580978870392, 0.16132280230522156, 0.0009375032386742532, 0.23479101061820984, 0.09383717179298401, 0.5746235847473145, 0.005371998995542526, 0.5436804890632629, 0.09433578699827194, 0.12397000193595886, 0.27726083993911743, 0.09079530090093613, 0.16228164732456207, 0.5157474875450134, 0.3968401253223419, 0.21215316653251648, 0.057556647807359695, 0.027007732540369034, 0.31635573506355286, 0.18028749525547028, 0.07766032963991165, 0.0769452452659607, 0.2112226039171219, 0.6510255932807922, 0.5352892875671387, 0.43284159898757935, 0.01123794261366129, 0.07565977424383163, 0.15694750845432281, 0.2901588976383209, 0.17825357615947723, 0.11818200349807739, 0.0404810756444931, 0.27481159567832947, 0.06437502056360245, 0.028747275471687317, 0.15495665371418, 0.44710010290145874, 2.109292984008789, 0.06870771944522858, 0.5285370945930481, 0.2618769109249115, 0.17037533223628998, 0.007188792340457439, 0.34122517704963684, 0.48766252398490906, 0.023691359907388687, 1.7402533292770386, 0.2694782018661499, 0.04089915007352829, 0.5646201372146606, 0.15488632023334503, 0.22768129408359528, 0.16842211782932281, 0.18980905413627625, 0.0667644813656807, 0.21928633749485016, 0.21973465383052826, 0.590023934841156, 0.21224339306354523, 0.17068016529083252, 0.21164146065711975, 0.4370705485343933, 0.08749599754810333, 0.456293523311615, 0.27698108553886414, 0.09317624568939209, 0.024454837664961815, 0.10044146329164505, 1.6400690078735352, 0.024423876777291298, 0.029605016112327576, 0.13422885537147522, 0.8046618700027466, 0.03267274424433708, 0.32226791977882385, 0.219622403383255, 0.06591077893972397, 0.17123083770275116, 0.2554868757724762, 0.4258697032928467, 0.7016110420227051, 0.3405172824859619, 0.12223110347986221, 0.04239114001393318, 0.42118874192237854, 0.3569478392601013, 0.19702111184597015, 0.22870539128780365, 0.2812109887599945, 0.046313028782606125, 0.19373522698879242, 0.22911858558654785, 0.05218379199504852, 0.20096740126609802, 0.26376891136169434, 0.27330073714256287, 0.10765695571899414, 0.2486911565065384, 0.02360544167459011, 0.1341831237077713, 0.0614980086684227, 1.1860530376434326, 0.3306564688682556, 0.08226703107357025, 0.2906891405582428, 0.17766712605953217, 0.28647616505622864, 0.0353461392223835, 0.46942490339279175, 0.21417967975139618, 0.05181645229458809, 0.034074414521455765, 0.09703481197357178, 0.1250736117362976, 0.4341850280761719, 0.11340229958295822, 0.0397939570248127, 0.2211487889289856, 0.49235689640045166, 0.11300430446863174, 0.41127341985702515, 0.4151427745819092, 0.2043767124414444, 0.30369946360588074, 0.5845163464546204, 0.146760955452919, 0.08147381991147995, 0.07719586789608002, 0.07187908887863159, 0.3505835235118866, 0.6253305673599243, 0.16071893274784088, 2.4160921573638916, 0.27626097202301025, 0.5735824108123779, 0.165623277425766, 0.056268516927957535, 0.07159730792045593, 0.06995894014835358, 0.05885034054517746, 0.27723291516304016, 0.1653956025838852, 1.0824769735336304, 0.09058886021375656, 0.5743110179901123, 0.007342691998928785, 0.3353975713253021, 0.07531733065843582, 0.46203410625457764, 0.23389941453933716, 0.32027000188827515, 0.6632540822029114, 0.11595802009105682, 0.3106330931186676, 0.19872906804084778, 0.4166472256183624, 0.03670681267976761, 0.2443825602531433, 0.12131815403699875, 0.008237103931605816, 1.8611587285995483, 0.005789200775325298, 0.2822696268558502, 0.004900151398032904, 0.05674905329942703, 0.4014405608177185, 0.07507911324501038, 0.5626774430274963, 0.2741085886955261, 2.7898261547088623, 3.1165876388549805, 0.06774801015853882, 0.15574145317077637, 0.2454618513584137, 0.030292194336652756, 0.06044299155473709, 0.006610178388655186, 0.09053324908018112, 0.2530945837497711, 0.012510343454778194, 0.5008301138877869, 0.44308599829673767, 0.3956556022167206, 0.07251307368278503, 0.2550698220729828, 0.07161244750022888, 0.4950830936431885, 0.7611074447631836, 0.6270325779914856, 0.07073932886123657, 0.005508563481271267, 0.23887784779071808, 0.2993088662624359, 0.09773960709571838, 2.108043670654297, 0.24704129993915558, 0.14102017879486084, 0.011418004520237446, 0.166625514626503, 0.033417508006095886, 0.38140636682510376, 0.04267359897494316, 0.21579121053218842, 0.6534759998321533, 0.0749283954501152, 0.8591108322143555, 0.01848568581044674, 0.18802466988563538, 0.014424637891352177, 0.09170611202716827, 0.03621847927570343, 0.5280777215957642, 0.02683696523308754, 0.6506928205490112, 0.23723939061164856, 0.03702591732144356, 0.05225987359881401, 0.0705089196562767, 0.12446317076683044, 0.09660349041223526, 0.3791228234767914, 0.48882725834846497, 0.3679783344268799, 0.1354970932006836, 0.05760592967271805, 0.14289028942584991, 0.17670783400535583, 0.11929996311664581, 0.0, 0.14447851479053497, 0.9271906018257141, 0.2256796658039093, 0.05851859971880913, 0.05495638772845268, 0.3575199544429779, 0.08202256262302399, 0.40509703755378723, 0.382565975189209, 0.518083393573761, 0.424543172121048, 0.07943759858608246, 0.21062037348747253, 0.22289860248565674, 0.23381651937961578, 0.17181815207004547, 0.2529264986515045, 0.08043628931045532, 0.2402162402868271, 0.21423248946666718, 0.12793494760990143, 0.10190829634666443, 0.044138386845588684, 0.05275624990463257, 0.05221061408519745, 0.32941803336143494, 0.1652451604604721, 0.17278821766376495, 0.4819260537624359, 0.3411651849746704, 0.3008568286895752, 0.19836318492889404, 0.24272698163986206, 1.1583046913146973, 0.08461812883615494, 0.18664157390594482, 0.012143541127443314, 1.3091691732406616, 0.13034561276435852, 0.5273573994636536, 0.21833404898643494, 0.4271332025527954, 0.39455506205558777, 0.27493998408317566, 0.21895109117031097, 0.2660934031009674, 0.05196848511695862, 0.0216805599629879, 0.007898190058767796, 0.17599020898342133, 0.1495693027973175, 0.33931803703308105, 0.14250747859477997, 0.3377736508846283, 0.1381417065858841, 0.24118292331695557, 0.20550379157066345, 1.1974948644638062, 0.04173344001173973, 0.06327950209379196, 0.3640305697917938, 0.16310271620750427, 0.03435980901122093, 0.2888573706150055, 1.6909739971160889, 0.06251084059476852, 0.23327013850212097, 0.14705494046211243, 0.04836772754788399, 1.0579848289489746, 0.3866119086742401, 0.1289384514093399, 0.06843432784080505, 0.42829233407974243, 0.02379756048321724, 0.12055622041225433, 0.3405925929546356, 0.3459451198577881, 0.28948110342025757, 0.20724911987781525, 0.12029260396957397, 0.1038944348692894, 0.08748242259025574, 0.19434021413326263, 0.05376346781849861, 0.1272394061088562, 0.22301983833312988, 0.20294269919395447, 0.05106938257813454, 0.3167489767074585, 0.3115192651748657, 0.284708708524704, 0.033385444432497025, 0.7653814554214478, 0.3845902979373932, 0.30268123745918274, 0.054842859506607056, 0.21389541029930115, 0.3718916177749634, 0.4318762421607971, 0.19186344742774963, 0.40026384592056274, 0.26299789547920227, 0.08967206627130508, 0.1527155637741089, 0.19666524231433868, 0.6585068702697754, 0.20471064746379852, 1.7621546983718872, 0.697637140750885, 0.017046643421053886, 0.051281627267599106, 0.06290905922651291, 0.10566803812980652, 0.09473401308059692, 0.030752157792448997, 0.15713880956172943, 2.0998072624206543, 0.2171052098274231, 0.05542596057057381, 0.0, 0.20404642820358276, 0.36304280161857605, 0.2862587571144104, 0.21493427455425262, 0.5184486508369446, 0.04438929632306099, 0.40626728534698486, 0.2460039258003235, 1.5918227434158325, 0.06463328003883362, 0.13864357769489288, 0.04754158854484558, 0.5817708373069763, 0.06013944745063782, 0.1256331503391266, 0.10806497186422348, 0.035666968673467636, 0.05857007950544357, 0.1111610159277916, 0.03103558160364628, 0.18616703152656555, 0.24472597241401672, 0.20128002762794495, 1.0249497890472412, 0.10585523396730423, 0.14265653491020203, 0.015756946057081223, 0.10742305219173431, 0.047711800783872604, 0.18875162303447723, 0.03925524652004242, 0.40652114152908325, 0.07078927755355835, 0.21748830378055573, 0.017770854756236076, 0.25110742449760437, 0.9654434323310852, 0.1495954692363739, 0.1705249696969986, 0.10940059274435043, 0.1354341357946396, 0.2959577739238739, 0.0038485201075673103, 0.4719645082950592, 0.5269604921340942, 0.3103613555431366, 0.6426121592521667, 0.012128153815865517, 0.6575655937194824, 0.040644071996212006, 0.2695159614086151, 0.37193721532821655, 0.0641523152589798, 0.007977272383868694, 0.05846073850989342, 0.668701171875, 0.3585062623023987, 0.05473565682768822, 0.6530796885490417, 0.3618481755256653, 0.09480869770050049, 0.39764395356178284, 0.0654391273856163, 0.30546969175338745, 0.306428998708725, 0.013734329491853714, 0.6100972890853882, 0.4410507082939148, 0.07940776646137238, 0.3038052022457123, 0.8257375955581665, 0.34183186292648315, 0.0764646828174591, 0.004528826102614403, 0.13844507932662964, 0.024351853877305984, 0.046370361000299454, 0.0989309698343277, 0.16778655350208282, 0.25186172127723694, 0.29125234484672546, 0.3239671587944031, 0.22210249304771423, 0.09140733629465103, 0.12747980654239655, 0.30110788345336914, 0.009957391768693924, 0.0021030455827713013, 0.03140467405319214, 0.26886942982673645, 0.26684391498565674, 0.9082987904548645, 0.00588094862177968, 0.19903145730495453, 0.3926783502101898, 0.23608534038066864, 0.09890474379062653, 0.13670985400676727, 0.1296575963497162, 0.5885359644889832, 0.13138778507709503, 0.5917729139328003, 0.07964030653238297, 0.19651272892951965, 0.2750832736492157, 0.02649560198187828, 0.16462978720664978, 0.7775059342384338, 0.027644522488117218, 0.21872445940971375, 0.3121218681335449, 0.35827767848968506, 0.1365187168121338, 0.46351194381713867, 0.025844058021903038, 0.3367850184440613, 0.3547472357749939, 0.24286893010139465, 0.10691226273775101, 0.5207138657569885, 0.15080489218235016, 0.4521316885948181, 0.17919974029064178, 0.31491124629974365, 0.12651893496513367, 0.519609808921814, 0.23984476923942566, 0.09960568696260452, 0.34081196784973145, 0.00025709884357638657, 0.05912662670016289, 1.0976909399032593, 0.23918017745018005, 0.4105924963951111, 0.02601688914000988, 0.07911951094865799, 0.3833787143230438, 0.12891438603401184, 0.022546473890542984, 0.5488690137863159, 0.30925509333610535, 0.17197012901306152, 0.1724705845117569, 0.2179556041955948, 0.05068816617131233, 0.10456569492816925, 0.0911349207162857, 0.5427165627479553, 0.326106995344162, 0.3342472016811371, 0.24105317890644073, 0.251160204410553, 0.06145099550485611, 0.017667613923549652, 0.18149948120117188, 0.46986785531044006, 0.017015354707837105, 0.0011915479553863406, 0.031354449689388275, 0.018437013030052185, 0.12601959705352783, 0.24751855432987213, 0.24436764419078827, 0.5796365737915039, 0.15556372702121735, 0.20420438051223755, 0.012997105717658997, 0.016396138817071915, 0.25024405121803284, 0.10762583464384079, 1.150790810585022, 1.027666687965393, 0.2838699519634247, 0.37174704670906067, 0.3900834619998932, 0.3570214807987213, 0.30964916944503784, 0.02843783050775528, 0.4891173839569092, 0.14465394616127014, 0.14757733047008514, 0.08743013441562653, 0.2190154790878296, 0.011523453518748283, 0.10824595391750336, 0.36135271191596985, 0.2542647421360016, 0.5273035168647766, 0.372470498085022, 0.14658907055854797, 0.28589415550231934, 0.3589619994163513, 0.43430835008621216, 0.3553016185760498, 0.0, 0.02121865004301071, 0.12187785655260086, 0.07620102167129517, 0.5451520681381226, 0.1571376770734787, 0.44555115699768066, 0.1588389277458191, 0.23143085837364197, 0.10500812530517578, 0.092440664768219, 0.05666004866361618, 0.5581933856010437, 0.27008873224258423, 0.6835479140281677, 0.10193628817796707, 0.19531366229057312, 0.14940562844276428, 0.18175385892391205, 0.3947077691555023, 0.03572920709848404, 0.22698776423931122, 0.37844395637512207, 1.738626480102539, 0.5117953419685364, 0.327804297208786, 0.1316113919019699, 1.0581823587417603, 0.18215680122375488, 2.3929426670074463, 0.17591725289821625, 0.7538350224494934, 0.143922820687294, 0.15617486834526062, 0.17594322562217712, 0.045213330537080765, 0.3804749548435211, 0.08275845646858215, 0.06151595711708069, 1.2916851043701172, 0.06914215534925461, 0.06715825200080872, 0.17901405692100525, 0.035308390855789185, 0.14546528458595276, 0.13432465493679047, 0.28254371881484985, 0.11093141883611679, 0.6890773177146912, 0.5875149965286255, 0.12537184357643127, 0.1687031239271164, 0.3447514474391937, 0.5167289972305298, 0.055699318647384644, 0.39818963408470154, 0.31363970041275024, 0.17802785336971283, 0.15989984571933746, 0.08341778814792633, 0.18032823503017426, 0.027705684304237366, 0.06715274602174759, 0.3688199818134308, 0.1779242306947708, 0.9293439984321594, 0.4776272773742676, 0.0014855226036161184, 1.1667308807373047, 0.27233049273490906, 0.3154798746109009, 2.152088165283203, 1.4522695541381836, 0.41916021704673767, 0.016795754432678223, 0.22509747743606567, 0.03949514776468277, 0.563335120677948, 0.1728355884552002, 0.6033735275268555, 0.5040718913078308, 0.024864573031663895, 0.24346989393234253, 0.11626341938972473, 0.1832430064678192, 0.9737787842750549, 0.10609117895364761, 0.06594511866569519, 0.23687635362148285, 2.0577919483184814, 0.11216621845960617, 0.20371435582637787, 1.6563385725021362, 0.2786240875720978, 0.8624511361122131, 0.014728243462741375, 0.11401507258415222, 0.005880511365830898, 0.42158427834510803, 0.04006095975637436, 0.16486448049545288, 0.2182769775390625, 0.2446630299091339, 0.016248950734734535, 0.2694346308708191, 1.2068376541137695, 0.6313531994819641, 0.11743755638599396, 0.10883763432502747, 0.7087615132331848, 0.09939313679933548, 0.09335046261548996, 0.05528585612773895, 0.3480454385280609, 0.4496643543243408, 0.1861197054386139, 0.2586529850959778, 0.1060299202799797, 0.49931296706199646, 0.9027957320213318, 0.23243212699890137, 0.017378810793161392, 0.3679031729698181, 0.08239904046058655, 0.15319637954235077, 0.0, 0.26784008741378784, 0.1152353286743164, 0.009464536793529987, 0.1874157041311264, 0.010049433447420597, 0.03897366300225258, 0.36501601338386536, 0.24442563951015472, 0.049195755273103714, 0.5115942358970642, 0.25958284735679626, 0.04602545127272606, 0.6477435231208801, 0.19500263035297394, 0.08570276200771332, 0.6086438298225403, 0.12546488642692566, 0.8011935353279114, 1.6276627779006958, 0.14511100947856903, 0.0533280111849308, 0.33285510540008545, 0.4952458441257477, 0.02557719685137272, 0.28072217106819153, 0.19404061138629913, 0.04680100828409195, 0.22376295924186707, 0.10825475305318832, 1.0379067659378052, 1.547993540763855, 0.2686355710029602, 0.18554148077964783, 1.2068554162979126, 0.004277892876416445, 0.2541782557964325, 0.04766416922211647, 0.032031722366809845, 0.3938031494617462, 0.015638452023267746, 0.036020006984472275, 0.17538198828697205, 0.09634891897439957, 1.1616621017456055, 0.10096622258424759, 0.6071876883506775, 0.5035630464553833, 0.07849365472793579, 0.8293243646621704, 0.11075155436992645, 0.11529006063938141, 0.050929129123687744, 0.122291699051857, 0.4541972279548645, 0.2051803171634674, 0.3458540737628937, 0.5379667282104492, 0.19555798172950745, 0.5347189903259277, 0.5512765645980835, 0.045049287378787994, 0.12791550159454346, 0.1633833646774292, 0.32627153396606445, 0.4176039397716522, 0.06369268894195557, 2.711138963699341, 0.2315846085548401, 0.01731199026107788, 0.5661419630050659, 0.06856171786785126, 0.017333928495645523, 0.08018741011619568, 0.3504098355770111, 0.0308880265802145, 0.02535196766257286, 0.04126489534974098, 0.5013367533683777, 0.1426471620798111, 0.10208195447921753, 0.6219765543937683, 0.0818357989192009, 0.4487900733947754, 0.276877760887146, 0.17746777832508087, 2.4546496868133545, 0.1476282924413681, 0.2460271269083023, 0.059181563556194305, 0.004116394557058811, 0.3193172514438629, 0.06818756461143494, 0.22033150494098663, 0.1557263880968094, 0.39132776856422424, 0.04858861118555069, 0.3603137731552124, 0.30433225631713867, 0.2749968469142914, 0.02696964517235756, 0.4710994362831116, 0.38317328691482544, 0.5073359608650208, 0.057643353939056396, 0.03810886666178703, 0.4233356714248657, 0.06001443788409233, 0.16630743443965912, 0.18123768270015717, 0.1428876370191574, 0.194915309548378, 0.03782230615615845, 0.25633934140205383, 0.6436516642570496, 0.48954033851623535, 0.08346447348594666, 0.20566850900650024, 0.08548641949892044, 0.0012566330842673779, 0.6660675406455994, 0.6190249919891357, 0.1868760883808136, 0.36106809973716736, 0.02066279761493206, 0.06182689964771271, 0.30667629837989807, 0.5784653425216675, 0.13591817021369934, 0.8587979674339294, 0.6826006174087524, 0.05186731368303299, 0.05961215868592262, 0.16730093955993652, 0.250341534614563, 0.20829124748706818, 0.017283199355006218, 0.10133902728557587, 0.005937778390944004, 0.17255109548568726, 0.1804211139678955, 0.030431151390075684, 0.30640140175819397, 0.11593946814537048, 0.3024499714374542, 0.0875966027379036, 0.010277426801621914, 0.08525215834379196, 0.006081041414290667, 0.9424814581871033, 0.14287924766540527, 0.47936946153640747, 0.2587190568447113, 0.45624443888664246, 0.2158261090517044, 0.1469593644142151, 0.3510391414165497, 0.2696368098258972, 0.37104520201683044, 1.1312135457992554, 0.1232529878616333, 0.0, 0.14192882180213928, 0.33613672852516174, 0.19241639971733093, 0.5912048816680908, 0.5624390244483948, 0.27031680941581726, 0.19789259135723114, 0.3827092945575714, 0.41575536131858826, 0.23683057725429535, 0.153904527425766, 0.10309622436761856, 0.07464148104190826, 0.9780380725860596, 0.265689879655838, 0.02823461964726448, 0.3606255054473877, 0.414608359336853, 0.1587706208229065, 0.4316115081310272, 0.6408625841140747, 0.3526279628276825, 0.2536015510559082, 0.08447089791297913, 0.3985309302806854, 0.30821534991264343, 0.4022381007671356, 0.0674641877412796, 0.47113358974456787, 0.22055761516094208, 0.15383197367191315, 0.32483434677124023, 0.009250125847756863, 0.06976528465747833, 0.11924844980239868, 0.4803134500980377, 0.07265720516443253, 0.14201945066452026, 0.32541200518608093, 0.6874648928642273, 0.017879890277981758, 0.42040911316871643, 0.22531192004680634, 0.0642717257142067, 0.33699965476989746, 0.03326808288693428, 0.2944706976413727, 0.03579062968492508, 0.0972156748175621, 0.1899450272321701, 0.44590070843696594, 0.15740971267223358, 0.2979743778705597, 0.4424794316291809, 0.019375672563910484, 0.16715744137763977, 0.008639026433229446, 0.14045323431491852, 0.5154948234558105, 0.34932059049606323, 0.10435345768928528, 0.2647997736930847, 0.01819269359111786, 0.08686571568250656, 0.03480229899287224, 0.09190007299184799, 0.5282858610153198, 0.2770763635635376, 0.2614986002445221, 0.40021055936813354, 0.7515518665313721, 0.343203067779541, 0.17861956357955933, 0.5224284529685974, 0.19748523831367493, 1.4877592325210571, 0.36095985770225525, 0.11234185844659805, 0.001570595195516944, 0.13652953505516052, 0.30116790533065796, 0.11509285867214203, 0.7643876075744629, 0.184387668967247, 0.0974087342619896, 0.3158937394618988, 0.3371274471282959, 0.682608962059021, 0.24248112738132477, 0.2617790400981903, 0.06355628371238708, 0.12766143679618835, 0.022371746599674225, 0.24092857539653778, 0.25946566462516785, 0.5254256725311279, 0.6175563335418701, 0.26149189472198486, 0.1950809508562088, 0.0986453965306282, 0.4641917943954468, 0.05025911331176758, 0.2737405002117157, 0.04719379544258118, 0.26016396284103394, 0.18423664569854736, 0.8905855417251587, 0.1180213913321495, 0.03332778811454773, 0.5981948375701904, 0.6136313676834106, 0.1227194145321846, 0.32989057898521423, 0.0, 0.03646782413125038, 0.19415514171123505, 0.6293845176696777, 0.30232247710227966, 0.17130249738693237, 0.19860298931598663, 0.016257410869002342, 0.7666531801223755, 0.1207222267985344, 0.22544001042842865, 0.11990391463041306, 0.14265424013137817, 0.32210448384284973, 1.1966938972473145, 0.04781088978052139, 0.11692941188812256, 0.3454287052154541, 0.06290274858474731, 0.10356191545724869, 0.2853143811225891, 0.10490774363279343, 0.1334945112466812, 0.0, 0.02211708389222622, 0.8193225264549255, 0.06912780553102493, 0.25589659810066223, 0.19761760532855988, 0.018192829564213753, 0.12149816006422043, 0.13499149680137634, 0.010153249837458134, 0.03216340020298958, 0.6271448135375977, 0.03515917807817459, 0.07779750227928162, 0.5776006579399109, 0.1406707614660263, 0.0, 0.1836169958114624, 0.058573946356773376, 1.0779112577438354, 0.432977557182312, 0.028738664463162422, 0.424235999584198, 0.06520390510559082, 0.37330105900764465, 0.0512436106801033, 1.1262331008911133, 0.9138473868370056, 0.005659032613039017, 0.27993351221084595, 0.07234016060829163, 0.4306931793689728, 0.0393361933529377, 0.6375069618225098, 0.7800212502479553, 0.09636901319026947, 0.18470022082328796, 0.3051466941833496, 0.20484040677547455, 0.07492512464523315, 0.13036073744297028, 0.05288320779800415, 0.24124160408973694, 0.47091513872146606, 0.06624116748571396, 0.09576423466205597, 0.2826317846775055, 0.6340060830116272, 0.07229871302843094, 0.7557963132858276, 0.2548670768737793, 0.19855117797851562, 0.18277306854724884, 0.13504214584827423, 0.19822300970554352, 0.7418860793113708, 0.12052988260984421, 0.07169497758150101, 0.00796827394515276, 0.23382650315761566, 0.573440432548523, 1.3505566120147705, 0.17718614637851715, 0.11279252916574478, 0.5340285897254944, 0.5530108213424683, 0.11474237591028214, 0.0, 0.2594636082649231, 0.6774676442146301, 0.09433463960886002, 0.13740044832229614, 1.3427863121032715, 0.5113139152526855, 0.007893088273704052, 0.4026636779308319, 0.02040223404765129, 0.16797210276126862, 0.12649816274642944, 0.33179381489753723, 0.1605411320924759, 0.2422720491886139, 0.39033734798431396, 0.069883793592453, 0.1584814190864563, 0.31114497780799866, 0.2055707722902298, 0.25508320331573486, 0.06700651347637177, 0.555097758769989, 1.3378549814224243, 1.4824199676513672, 0.11678904294967651, 0.060659974813461304, 0.05741075426340103, 0.2529049217700958, 0.49302804470062256, 0.10235889256000519, 0.14684544503688812, 0.5206998586654663, 0.16543497145175934, 0.3954608738422394, 0.2707386016845703, 0.19150371849536896, 0.021126559004187584, 1.1840415000915527, 0.32132863998413086, 0.0031584191601723433, 0.3443935513496399, 0.6148262023925781, 0.13165181875228882, 0.18691521883010864, 0.13622398674488068, 0.028839826583862305, 0.22482289373874664, 0.22206832468509674, 0.2808840274810791, 0.40682896971702576, 2.052457332611084, 0.3442867398262024, 0.056393448263406754, 0.06774221360683441, 0.14462105929851532, 0.19000780582427979, 0.368673175573349, 0.193166583776474, 0.07871359586715698, 0.12786172330379486, 0.3190022110939026, 0.37470126152038574, 0.3318910300731659, 0.08113916218280792, 0.4520818889141083, 0.1275550276041031, 0.8587973713874817, 0.07281121611595154, 0.007776513230055571, 0.10830530524253845, 0.11659201979637146, 0.37631916999816895, 0.10297584533691406, 0.39117181301116943, 0.002809156896546483, 0.5474402904510498, 0.1410352736711502, 0.44947177171707153, 0.47726958990097046, 0.2990770637989044, 0.016621790826320648, 0.4363105893135071, 0.1881028562784195, 0.034975696355104446, 1.805233359336853, 0.08578162640333176, 0.06634044647216797, 0.23213031888008118, 0.0821770653128624, 0.9720418453216553, 0.0541137270629406, 0.021156586706638336, 0.5858719348907471, 0.27205124497413635, 0.11076265573501587, 0.19429129362106323, 0.6114975214004517, 0.042479876428842545, 0.3235776424407959, 0.06333564966917038, 0.13483257591724396, 0.2002412974834442, 0.01721975952386856, 0.23288343846797943, 0.03125711530447006, 0.35929322242736816, 0.2949252128601074, 0.03556635603308678, 1.115318775177002, 0.826153039932251, 0.03360946848988533, 0.7209981083869934, 0.16180263459682465, 0.33723944425582886, 0.3889910578727722, 0.025496037676930428, 0.07663682848215103, 0.08981861174106598, 1.8065251111984253, 0.03510233759880066, 0.21338316798210144, 0.23705416917800903, 0.0, 0.21028748154640198, 0.5941073894500732, 3.1635048389434814, 0.5800837874412537, 0.11483745276927948, 0.3363772928714752, 0.10993111878633499, 0.08159670978784561, 0.4849795401096344, 0.0691995844244957, 0.17755021154880524, 0.10910870879888535, 1.4418808221817017, 0.009277350269258022, 0.19499647617340088, 0.05862829461693764, 0.08735348284244537, 0.0, 0.20083291828632355, 0.04222823679447174, 0.2567448019981384, 0.020764905959367752, 0.20078110694885254, 0.1333080530166626, 0.40628939867019653, 0.10966017097234726, 0.8062151074409485, 0.13091418147087097, 0.44047683477401733, 0.6211273670196533, 0.06975650787353516, 0.11617641150951385, 0.23129776120185852, 0.011734170839190483, 1.4663360118865967, 0.13013087213039398, 0.1263006627559662, 0.27895620465278625, 0.22554707527160645, 0.021012116223573685, 0.18998783826828003, 0.035432763397693634, 0.1931442767381668, 0.043809495866298676, 0.7898978590965271, 0.1991744190454483, 2.823118209838867, 0.8010479807853699, 0.18933527171611786, 0.42228537797927856, 0.38700878620147705, 0.9211179614067078, 0.2888529896736145, 0.21457180380821228, 0.6333016753196716, 0.1875404566526413, 0.050950877368450165, 0.3028748035430908, 0.07654223591089249, 0.23734037578105927, 0.3924088478088379, 0.006594113074243069, 0.06525153666734695, 0.10494709759950638, 0.8174588680267334, 0.3280641734600067, 0.4990268349647522, 0.989916980266571, 0.3108474016189575, 0.330624520778656, 0.006660813465714455, 0.055500566959381104, 0.0002223314077127725, 0.32026535272598267, 0.37161940336227417, 1.0576399564743042, 0.36993852257728577, 1.9585891962051392, 0.22703196108341217, 0.06137767434120178, 0.2232181429862976, 0.0778389573097229, 0.11267852038145065, 0.28427961468696594, 0.11432673782110214, 0.0007657438982278109, 0.8499897718429565, 0.014656051062047482, 0.018558157607913017, 0.09693508595228195, 0.21745675802230835, 0.020973362028598785, 0.10358569771051407, 0.24132314324378967, 0.010553148575127125, 0.04442015290260315, 0.041798681020736694, 0.024256210774183273, 0.0820731520652771, 0.09909527003765106, 0.2028050571680069, 0.04093918576836586, 0.15953761339187622, 1.1257898807525635, 0.22186234593391418, 0.06291008740663528, 0.25207072496414185, 0.43942752480506897, 0.8686153888702393, 0.047550901770591736, 0.4004468321800232, 0.05899389460682869, 0.27737879753112793, 0.05242962762713432, 0.19680310785770416, 0.44486406445503235, 0.041727397590875626, 0.21826167404651642, 0.06359730660915375, 0.14277613162994385, 0.27668309211730957, 1.2363779544830322, 0.06504154950380325, 0.2587769329547882, 0.7085990309715271, 0.15548531711101532, 0.10580740123987198, 0.2596297264099121, 0.5324524641036987, 0.02908063493669033, 0.889393150806427, 0.2612592279911041, 0.5205121040344238, 0.13503150641918182, 0.4811922311782837, 0.43925943970680237, 0.3640037477016449, 0.5822001695632935, 0.013675733469426632, 0.5019403696060181, 0.27201348543167114, 0.043338969349861145, 0.09658215194940567, 0.39459455013275146, 0.1287057101726532, 0.13495750725269318, 0.21678784489631653, 0.033194687217473984, 0.16027893126010895, 0.799530029296875, 0.2294868528842926, 0.05331052467226982, 0.039860039949417114, 0.4959262013435364, 0.8878327012062073, 1.152456283569336, 0.6925702095031738, 0.009207370691001415, 0.36013948917388916, 0.19950295984745026, 0.04557279497385025, 0.5954205393791199, 0.19366708397865295, 0.24485602974891663, 0.33695873618125916, 0.452867716550827, 0.29440346360206604, 0.6338471174240112, 0.09521541744470596, 0.7474074959754944, 0.05648069456219673, 0.7052832841873169, 0.18844102323055267, 0.6431379318237305, 0.5097499489784241, 0.4525159001350403, 0.3322635591030121, 0.006368494592607021, 0.2381860613822937, 0.5959381461143494, 0.10043719410896301, 0.06812047213315964, 0.25162261724472046, 0.27556389570236206, 0.47360357642173767, 0.8472647666931152, 0.052998799830675125, 0.3019965887069702, 0.005017466843128204, 0.04382888600230217, 0.05813005939126015, 0.07446961104869843, 0.044374145567417145, 0.08433053642511368, 0.031165072694420815, 0.27630653977394104, 0.7126458883285522, 0.017369365319609642, 0.31350597739219666, 0.2804765999317169, 0.05098365247249603, 0.0, 0.035845380276441574, 0.22448566555976868, 0.03976742550730705, 0.09070581942796707, 0.09748578816652298, 0.0, 0.20414181053638458, 0.29682958126068115, 0.6722173690795898, 0.18882997334003448, 0.3426658809185028, 0.0, 0.05096721649169922, 0.020904771983623505, 0.7318477034568787, 0.09043729305267334, 0.1355227380990982, 0.09392943978309631, 0.05042003467679024, 0.20068198442459106, 0.23404765129089355, 0.048932261765003204, 0.0023963938001543283, 0.057537756860256195, 0.19601091742515564, 0.45388540625572205, 0.28415969014167786, 1.2949005365371704, 0.10752197355031967, 0.42189493775367737, 0.18714937567710876, 0.059826213866472244, 0.1903192549943924, 0.003956242464482784, 0.2424447387456894, 1.1343270540237427, 0.057513199746608734, 0.3369903564453125, 0.11979863047599792, 0.2468879669904709, 0.317362904548645, 0.3157961368560791, 0.3721503019332886, 0.17286787927150726, 0.027594421058893204, 0.523247241973877, 0.19305886328220367, 0.4619651436805725, 0.009409857913851738, 0.5252289772033691, 0.45873236656188965, 0.37585362792015076, 0.01621577888727188, 0.6305691003799438, 0.13145330548286438, 0.08250023424625397, 1.062343955039978, 0.22237403690814972, 0.058410026133060455, 0.183623269200325, 0.5991899967193604, 0.1616426557302475, 1.0772680044174194, 0.19184108078479767, 0.23217828571796417, 0.23320719599723816, 0.711899995803833, 1.1915225982666016, 0.05594338849186897, 0.43999311327934265, 0.2644866406917572, 0.5792694687843323, 0.9202592968940735, 0.30591440200805664, 0.3479328453540802, 0.014275905676186085, 0.3817487359046936, 1.083972454071045, 0.1410873383283615, 0.08614203333854675, 0.12939368188381195, 0.08606205880641937, 0.4388844966888428, 0.3403855562210083, 0.011999952606856823, 0.08076102286577225, 0.17110119760036469, 0.6482423543930054, 0.489345908164978, 0.011693178676068783, 0.6348384618759155, 0.0, 0.010097992606461048, 0.5016193389892578, 0.04705449193716049, 0.10945729166269302, 0.26365625858306885, 0.05514992028474808, 0.5088440775871277, 0.2882479131221771, 1.1873779296875, 0.2903721034526825, 0.12068373709917068, 0.35848507285118103, 0.0213765949010849, 0.4866260886192322, 0.08089708536863327, 1.1456376314163208, 0.25780996680259705, 0.0, 0.12730038166046143, 0.01822345145046711, 0.3620048761367798, 0.06022621691226959, 0.15892472863197327, 0.781779944896698, 0.19059792160987854, 0.654746413230896, 0.06968621164560318, 0.035672008991241455, 0.766424298286438, 0.09645900130271912, 0.23552362620830536, 0.2048991471529007, 0.1039406880736351, 2.0120012760162354, 0.18041446805000305, 0.1093975156545639, 0.282000869512558, 0.3090265095233917, 0.05712057277560234, 0.14396820962429047, 0.5952674150466919, 0.050387077033519745, 0.3099121153354645, 0.10027903318405151, 0.7023836970329285, 0.18952259421348572, 1.1895854473114014, 0.09756401926279068, 0.29558461904525757, 0.18738360702991486, 0.09279002994298935, 0.013409680686891079, 0.4901687502861023, 0.006763583980500698, 0.21644851565361023, 0.6172665357589722, 0.28962811827659607, 0.09099091589450836, 0.22641831636428833, 0.19159932434558868, 0.9520749449729919, 0.11082762479782104, 0.26600930094718933, 0.8264206051826477, 0.448260098695755, 0.02719283290207386, 0.10839583724737167, 0.7119371294975281, 0.10299434512853622, 0.15162251889705658, 0.01573006808757782, 0.2443551868200302, 0.8934346437454224, 0.0948738157749176, 0.20779669284820557, 0.4222148060798645, 0.23444901406764984, 0.015919838100671768, 0.09026728570461273, 0.07315943390130997, 0.17143143713474274, 0.46973490715026855, 0.036770161241292953, 0.04213423654437065, 0.17203938961029053, 2.399867057800293, 0.4420017600059509, 0.04723126441240311, 0.032543446868658066, 0.2046833485364914, 1.2818418741226196, 0.29316800832748413, 0.20673955976963043, 0.5281694531440735, 0.06399732828140259, 0.010072266682982445, 0.10670983046293259, 0.0993976891040802, 0.2469937801361084, 0.5879260301589966, 0.16187188029289246, 0.13895919919013977, 0.33168691396713257, 0.15623480081558228, 0.2538767457008362, 0.34024327993392944, 0.014173818752169609, 0.03295186161994934, 1.0314658880233765, 0.5924984216690063, 0.25327175855636597, 0.02610393613576889, 0.004110892303287983, 0.037309981882572174, 0.06242910772562027, 0.3012293875217438, 0.14378367364406586, 0.0530705563724041, 0.3006129264831543, 0.1416793018579483, 0.03971419855952263, 0.06995674967765808, 0.46547931432724, 0.18742701411247253, 0.07064256072044373, 1.3120843172073364, 0.061210647225379944, 0.02233177050948143, 0.524263322353363, 0.3805811107158661, 0.14914093911647797, 0.223531574010849, 0.13591110706329346, 0.1093488335609436, 0.6203408241271973, 0.07868880778551102, 0.21363963186740875, 0.1080683097243309, 0.13679710030555725, 0.3419733941555023, 0.0, 0.28665730357170105, 0.8815643787384033, 0.13603174686431885, 0.23302516341209412, 0.2058277130126953, 0.09086304903030396, 0.18819186091423035, 0.6121522784233093, 0.029032522812485695, 0.0, 0.09466303884983063, 0.4304927587509155, 0.4000215232372284, 0.07351870089769363, 0.2565537393093109, 0.1537022590637207, 0.03989114984869957, 0.03576259687542915, 0.17051221430301666, 0.3495538532733917, 2.1036665439605713, 0.39190495014190674, 0.13676084578037262, 0.03189272806048393, 0.7864057421684265, 0.3260725438594818, 0.16032980382442474, 0.6604417562484741, 0.66976398229599, 0.13141439855098724, 0.14863696694374084, 0.9001063108444214, 0.2638866901397705, 0.15519747138023376, 0.2864125370979309, 0.05740455538034439, 0.5463407635688782, 0.22667548060417175, 0.03653666749596596, 0.08535604178905487, 0.16880984604358673, 0.1644187867641449, 0.03805055841803551, 0.08215790241956711, 0.8267427682876587, 0.31667301058769226, 0.10564563423395157, 0.015122931450605392, 0.10705509036779404, 0.7319844365119934, 0.052513886243104935, 0.06267052888870239, 0.28546375036239624, 0.3861766457557678, 0.1896553635597229, 0.23016591370105743, 0.31559592485427856, 0.4365997612476349, 0.2974177896976471, 0.2691957652568817, 0.41270753741264343, 0.30087003111839294, 0.14955928921699524, 0.14580394327640533, 0.3620586097240448, 0.4365082085132599, 0.12955822050571442, 0.30234619975090027, 0.30141177773475647, 0.20382975041866302, 0.024732664227485657, 0.0, 0.10051549971103668, 0.24758516252040863, 0.7357646226882935, 0.32101601362228394, 0.34846073389053345, 0.014883463270962238, 0.36050480604171753, 0.1846640408039093, 0.09636794030666351, 0.6582585573196411, 0.19579751789569855, 0.703139066696167, 0.07497573643922806, 0.37526819109916687, 0.027197211980819702, 0.34802737832069397, 0.04488367587327957, 0.08647381514310837, 0.34132954478263855, 0.9267115592956543, 0.19085858762264252, 0.643613338470459, 0.28866899013519287, 0.1646708995103836, 0.11402676999568939, 0.0275251567363739, 0.15629006922245026, 0.5486015677452087, 0.023780275136232376, 0.02829243429005146, 0.28460127115249634, 0.17418824136257172, 0.6138089895248413, 0.10183417052030563, 0.009735251776874065, 0.13931989669799805, 0.07485207915306091, 0.7933648824691772, 0.3150804042816162, 0.1338101029396057, 0.6108177900314331, 0.2206382304430008, 0.2543405294418335, 0.5468823313713074, 4.5953450202941895, 0.2699641287326813, 0.0808703750371933, 0.09664463251829147, 0.29488763213157654, 0.10320456326007843, 0.11273693293333054, 0.5087055563926697, 0.2862955331802368, 0.28623083233833313, 0.2160596400499344, 0.25365614891052246, 0.04265029728412628, 0.24705582857131958, 0.022029802203178406, 0.8243624567985535, 0.15381760895252228, 0.13106241822242737, 0.06423953920602798, 0.038176730275154114, 0.31121698021888733, 0.04884832352399826, 0.3717281222343445, 1.2307311296463013, 1.2869046926498413, 0.2205319106578827, 1.0697898864746094, 0.5903751850128174, 0.11310870945453644, 0.08453025668859482]\n"
          ]
        }
      ]
    },
    {
      "cell_type": "code",
      "source": [
        "index.query(\n",
        "\n",
        "    vector=vector,\n",
        "    top_k=10,\n",
        "   # include_values=True\n",
        ")"
      ],
      "metadata": {
        "colab": {
          "base_uri": "https://localhost:8080/"
        },
        "id": "GwpVQ5YUVpp2",
        "outputId": "d650bb1a-dc2e-47e7-a292-a2d665fab93b"
      },
      "execution_count": 43,
      "outputs": [
        {
          "output_type": "execute_result",
          "data": {
            "text/plain": [
              "{'matches': [{'id': 'mohanlal',\n",
              "              'metadata': None,\n",
              "              'score': 1.0003673,\n",
              "              'sparse_values': {'indices': [], 'values': []},\n",
              "              'values': []},\n",
              "             {'id': 'mamooty',\n",
              "              'metadata': None,\n",
              "              'score': 0.7994939,\n",
              "              'sparse_values': {'indices': [], 'values': []},\n",
              "              'values': []}],\n",
              " 'namespace': '',\n",
              " 'usage': {'read_units': 5}}"
            ]
          },
          "metadata": {},
          "execution_count": 43
        }
      ]
    }
  ]
}